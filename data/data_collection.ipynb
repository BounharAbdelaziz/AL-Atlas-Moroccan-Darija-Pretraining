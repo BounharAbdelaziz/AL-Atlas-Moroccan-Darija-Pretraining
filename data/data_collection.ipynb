{
 "cells": [
  {
   "cell_type": "code",
   "execution_count": null,
   "metadata": {},
   "outputs": [],
   "source": [
    "from datasets import (\n",
    "  load_dataset,\n",
    "  Dataset\n",
    ")\n",
    "import pandas as pd"
   ]
  },
  {
   "cell_type": "code",
   "execution_count": 2,
   "metadata": {},
   "outputs": [],
   "source": [
    "DATASET_HUB = \"atlasia/AL-Atlas-Moroccan-Darija-Pretraining-Dataset\""
   ]
  },
  {
   "cell_type": "code",
   "execution_count": 12,
   "metadata": {},
   "outputs": [],
   "source": [
    "dataset_in_hub = load_dataset(DATASET_HUB)"
   ]
  },
  {
   "cell_type": "markdown",
   "metadata": {},
   "source": [
    "# Load the datasets to combine"
   ]
  },
  {
   "cell_type": "code",
   "execution_count": 3,
   "metadata": {},
   "outputs": [
    {
     "name": "stderr",
     "output_type": "stream",
     "text": [
      "Generating train split: 100%|██████████| 2731313/2731313 [00:07<00:00, 367983.00 examples/s]\n"
     ]
    }
   ],
   "source": [
    "jasper_dataset = load_dataset(\"JasperV13/Darija_Dataset\")"
   ]
  },
  {
   "cell_type": "code",
   "execution_count": 4,
   "metadata": {},
   "outputs": [
    {
     "name": "stderr",
     "output_type": "stream",
     "text": [
      "Generating train split: 100%|██████████| 843/843 [00:00<00:00, 174503.91 examples/s]\n"
     ]
    }
   ],
   "source": [
    "jasper_darija_instruct_dataset = load_dataset(\"JasperV13/Darija_instruct\")"
   ]
  },
  {
   "cell_type": "code",
   "execution_count": null,
   "metadata": {},
   "outputs": [],
   "source": [
    "abdeljalil_darija_topic_ds = load_dataset(\"abdeljalilELmajjodi/darija_topic_ds\")"
   ]
  },
  {
   "cell_type": "code",
   "execution_count": null,
   "metadata": {},
   "outputs": [],
   "source": [
    "abdeljalil_darija_s2s_ds = load_dataset(\"abdeljalilELmajjodi/darija_s2s_ds\")"
   ]
  },
  {
   "cell_type": "code",
   "execution_count": null,
   "metadata": {},
   "outputs": [],
   "source": [
    "abdeljalil_darija_qa_ds = load_dataset(\"abdeljalilELmajjodi/darija_qa_ds\")"
   ]
  },
  {
   "cell_type": "code",
   "execution_count": null,
   "metadata": {},
   "outputs": [],
   "source": [
    "abdeljalil_darija_classification_ds = load_dataset(\"abdeljalilELmajjodi/darija_classification_ds\")"
   ]
  },
  {
   "cell_type": "code",
   "execution_count": null,
   "metadata": {},
   "outputs": [],
   "source": [
    "bourbouh_subtitles_dataset = load_dataset(\"bourbouh/moroccan-darija-youtube-subtitles\")"
   ]
  },
  {
   "cell_type": "code",
   "execution_count": null,
   "metadata": {},
   "outputs": [],
   "source": [
    "Darija_QA_dataset = load_dataset(\"Lyte/Darija-QA\")"
   ]
  },
  {
   "cell_type": "code",
   "execution_count": null,
   "metadata": {},
   "outputs": [],
   "source": [
    "mo_darija_merged_dataset = load_dataset(\"tachicart/mo_darija_merged\")"
   ]
  },
  {
   "cell_type": "code",
   "execution_count": 6,
   "metadata": {},
   "outputs": [],
   "source": [
    "fine_web_sawalni_filtered = load_dataset(\"sawalni-ai/fw-darija\")"
   ]
  },
  {
   "cell_type": "code",
   "execution_count": 4,
   "metadata": {},
   "outputs": [
    {
     "name": "stderr",
     "output_type": "stream",
     "text": [
      "Generating train split: 100%|██████████| 1374/1374 [00:00<00:00, 117302.89 examples/s]\n"
     ]
    }
   ],
   "source": [
    "atlasia_facebook_darija_dataset = load_dataset(\"atlasia/facebook_darija_dataset\")"
   ]
  },
  {
   "cell_type": "code",
   "execution_count": 5,
   "metadata": {},
   "outputs": [
    {
     "data": {
      "text/plain": [
       "DatasetDict({\n",
       "    train: Dataset({\n",
       "        features: ['pageName', 'text', '__index_level_0__'],\n",
       "        num_rows: 1374\n",
       "    })\n",
       "})"
      ]
     },
     "execution_count": 5,
     "metadata": {},
     "output_type": "execute_result"
    }
   ],
   "source": [
    "atlasia_facebook_darija_dataset"
   ]
  },
  {
   "cell_type": "code",
   "execution_count": 7,
   "metadata": {},
   "outputs": [
    {
     "data": {
      "text/plain": [
       "DatasetDict({\n",
       "    train: Dataset({\n",
       "        features: ['pageName', 'text'],\n",
       "        num_rows: 1374\n",
       "    })\n",
       "})"
      ]
     },
     "execution_count": 7,
     "metadata": {},
     "output_type": "execute_result"
    }
   ],
   "source": [
    "atlasia_facebook_darija_dataset = atlasia_facebook_darija_dataset.remove_columns([\"__index_level_0__\"])\n",
    "atlasia_facebook_darija_dataset"
   ]
  },
  {
   "cell_type": "markdown",
   "metadata": {},
   "source": [
    "#### MAC dataset available as CSV"
   ]
  },
  {
   "cell_type": "code",
   "execution_count": null,
   "metadata": {},
   "outputs": [],
   "source": [
    "mac_df = pd.read_csv(\"MAC corpus.csv\") # https://github.com/Lafifi-24/arabic-dialect-identification"
   ]
  },
  {
   "cell_type": "code",
   "execution_count": null,
   "metadata": {},
   "outputs": [],
   "source": [
    "mac_df.head()"
   ]
  },
  {
   "cell_type": "code",
   "execution_count": null,
   "metadata": {},
   "outputs": [],
   "source": [
    "# keep only the dialect\n",
    "filtered_mac_df = mac_df[mac_df['class'] == 'dialectal']"
   ]
  },
  {
   "cell_type": "code",
   "execution_count": null,
   "metadata": {},
   "outputs": [],
   "source": [
    "filtered_mac_df.head()"
   ]
  },
  {
   "cell_type": "code",
   "execution_count": null,
   "metadata": {},
   "outputs": [],
   "source": [
    "mac_dataset = Dataset.from_pandas(filtered_mac_df)"
   ]
  },
  {
   "cell_type": "code",
   "execution_count": null,
   "metadata": {},
   "outputs": [],
   "source": [
    "mac_dataset = mac_dataset.train_test_split(test_size=0.01).remove_columns('__index_level_0__')  # leave 1% for test"
   ]
  },
  {
   "cell_type": "code",
   "execution_count": null,
   "metadata": {},
   "outputs": [],
   "source": [
    "mac_dataset"
   ]
  },
  {
   "cell_type": "code",
   "execution_count": 4,
   "metadata": {},
   "outputs": [
    {
     "name": "stderr",
     "output_type": "stream",
     "text": [
      "Downloading data: 100%|██████████| 34/34 [04:34<00:00,  8.07s/files]\n",
      "Generating train split: 100%|██████████| 69181074/69181074 [01:37<00:00, 707992.38 examples/s] \n",
      "Generating test split: 100%|██████████| 404456/404456 [00:00<00:00, 698677.54 examples/s]\n"
     ]
    }
   ],
   "source": [
    "fineweb_2_ary = load_dataset(\"Omartificial-Intelligence-Space/FineWeb2-Moroccan-Arabic\")"
   ]
  },
  {
   "cell_type": "code",
   "execution_count": 5,
   "metadata": {},
   "outputs": [
    {
     "data": {
      "text/plain": [
       "DatasetDict({\n",
       "    train: Dataset({\n",
       "        features: ['text'],\n",
       "        num_rows: 69181074\n",
       "    })\n",
       "    test: Dataset({\n",
       "        features: ['text'],\n",
       "        num_rows: 404456\n",
       "    })\n",
       "})"
      ]
     },
     "execution_count": 5,
     "metadata": {},
     "output_type": "execute_result"
    }
   ],
   "source": [
    "fineweb_2_ary"
   ]
  },
  {
   "cell_type": "code",
   "execution_count": 4,
   "metadata": {},
   "outputs": [
    {
     "name": "stderr",
     "output_type": "stream",
     "text": [
      "Generating train split: 100%|██████████| 188848/188848 [00:00<00:00, 1574444.92 examples/s]\n"
     ]
    }
   ],
   "source": [
    "salaheddine_dataset = load_dataset(\"atlasia/moroccan_darija_domain_classifier_dataset\")"
   ]
  },
  {
   "cell_type": "code",
   "execution_count": null,
   "metadata": {},
   "outputs": [
    {
     "name": "stderr",
     "output_type": "stream",
     "text": [
      "Generating train split: 100%|██████████| 10742/10742 [00:00<00:00, 311798.63 examples/s]\n",
      "Downloading data: 100%|██████████| 18/18 [02:53<00:00,  9.62s/files]\n",
      "Generating train split: 100%|██████████| 551/551 [01:01<00:00,  8.98 examples/s]\n",
      "Generating train split: 100%|██████████| 10044/10044 [00:00<00:00, 157278.18 examples/s]\n"
     ]
    }
   ],
   "source": [
    "social_media_default = load_dataset(\"atlasia/Social_Media_Darija_DS\", \"default\")\n",
    "social_media_facebook_comments = load_dataset(\"atlasia/Social_Media_Darija_DS\", \"facebook_comments\")\n",
    "social_media_facebook_uncleand_posts = load_dataset(\"atlasia/Social_Media_Darija_DS\", \"facebook_uncleand_posts\")\n",
    "wikipedia_audio = load_dataset(\"atlasia/Moroccan-Darija-Wiki-Audio-Dataset\")\n",
    "wikipedia_text = load_dataset(\"atlasia/Moroccan-Darija-Wiki-Dataset\")"
   ]
  },
  {
   "cell_type": "code",
   "execution_count": 50,
   "metadata": {},
   "outputs": [
    {
     "name": "stderr",
     "output_type": "stream",
     "text": [
      "Generating train split: 100%|██████████| 577974/577974 [00:02<00:00, 263016.76 examples/s] \n",
      "Generating test split: 100%|██████████| 850/850 [00:00<00:00, 157820.20 examples/s]\n"
     ]
    }
   ],
   "source": [
    "data_translation = load_dataset(\"BounharAbdelaziz/Terjman-v2-English-Darija-Dataset\")"
   ]
  },
  {
   "cell_type": "markdown",
   "metadata": {},
   "source": [
    "# Concatenate the datasets"
   ]
  },
  {
   "cell_type": "code",
   "execution_count": 21,
   "metadata": {},
   "outputs": [],
   "source": [
    "# ------------------------------------------------------------------------------------------------------------ #\n",
    "# ------------------------------------------------------------------------------------------------------------ #\n",
    "\n",
    "def extract_and_stack_dataset(dataset, dataset_source, dataset_source_column, use_source_from_dataset, metadata_columns):\n",
    "    \"\"\"\n",
    "    Stack multiple text columns into a single \"text\" column, keeping metadata, and add dataset_source as a separate column.\n",
    "\n",
    "    Args:\n",
    "        dataset (DatasetDict or Dataset): The dataset or dataset dict to process.\n",
    "        dataset_source (str): The source of the dataset to add as a separate column.\n",
    "        dataset_source_column (str): In case the dataset has the source, use it.\n",
    "        use_source_from_dataset (bool): Whether to use the 'source' column from the dataset.\n",
    "        metadata_columns (list or str): List of columns (or single column) to exclude (used as metadata).\n",
    "\n",
    "    Returns:\n",
    "        DatasetDict: A DatasetDict with stacked text, metadata columns, and dataset_source as a separate column.\n",
    "    \"\"\"\n",
    "    if isinstance(metadata_columns, str):\n",
    "        metadata_columns = [metadata_columns]  # Handle single column as a list\n",
    "\n",
    "    def transform(sample):\n",
    "        # Check for columns that don't exist in the dataset\n",
    "        for col in metadata_columns:\n",
    "            if col not in sample:\n",
    "                raise KeyError(f\"Column '{col}' is not in the dataset. Available columns: {list(sample.keys())}\")\n",
    "\n",
    "        # Identify text columns to stack (all columns except excluded)\n",
    "        text_columns = [col for col in sample.keys() if col not in metadata_columns]\n",
    "        stacked_text = []\n",
    "        metadata_list = {col: [] for col in metadata_columns}  # Initialize metadata dict\n",
    "\n",
    "        # Stack text and metadata\n",
    "        for col in text_columns:\n",
    "            if isinstance(sample[col], list):  # Handle batch mapping with lists\n",
    "                stacked_text.extend(sample[col])\n",
    "                for meta_col in metadata_columns:\n",
    "                    metadata_list[meta_col].extend(sample[meta_col])\n",
    "            else:\n",
    "                stacked_text.append(sample[col])\n",
    "                for meta_col in metadata_columns:\n",
    "                    metadata_list[meta_col].append(sample[meta_col])\n",
    "\n",
    "        # Prepare metadata as string for each entry\n",
    "        merged_metadata = [\n",
    "            {meta_col: str(metadata_list[meta_col][i]) for meta_col in metadata_columns}\n",
    "            for i in range(len(stacked_text))\n",
    "        ]\n",
    "        \n",
    "        # Convert entire metadata to string (by converting the whole dict to a string)\n",
    "        merged_metadata_as_str = [str(metadata) for metadata in merged_metadata]\n",
    "       \n",
    "        # Determine the dataset_source_column value based on whether to use it from the dataset\n",
    "        if use_source_from_dataset and dataset_source_column in sample:\n",
    "            if isinstance(sample[dataset_source_column], list):  # Batch processing\n",
    "                dataset_source_column_value = sample[dataset_source_column]\n",
    "            else:\n",
    "                dataset_source_column_value = [sample[dataset_source_column]] * len(stacked_text)\n",
    "        else:\n",
    "            dataset_source_column_value = [dataset_source] * len(stacked_text)\n",
    "\n",
    "            \n",
    "        return {\n",
    "            \"text\": stacked_text,\n",
    "            \"dataset_source\": dataset_source_column_value,  # Separate column for dataset source\n",
    "            \"metadata\": merged_metadata_as_str,  # Entire metadata as string\n",
    "        }\n",
    "\n",
    "    # Apply transformation across splits, preserving split structure\n",
    "    if isinstance(dataset, DatasetDict):\n",
    "        new_splits = {}\n",
    "        for split in dataset.keys():\n",
    "            print(f\"Processing split: {split}...\")\n",
    "            new_splits[split] = dataset[split].map(\n",
    "                transform,\n",
    "                batched=True,  # Needed to handle stacking correctly\n",
    "                remove_columns=dataset[split].column_names\n",
    "            ).flatten_indices()\n",
    "        return DatasetDict(new_splits)\n",
    "    else:\n",
    "        return dataset.map(\n",
    "            transform,\n",
    "            batched=True,\n",
    "            remove_columns=dataset.column_names\n",
    "        ).flatten_indices()\n",
    "\n",
    "\n",
    "# ------------------------------------------------------------------------------------------------------------ #\n",
    "# ------------------------------------------------------------------------------------------------------------ #\n",
    "\n",
    "from datasets import DatasetDict, concatenate_datasets\n",
    "\n",
    "def concat_datasetdicts(d1: DatasetDict, d2: DatasetDict) -> DatasetDict:\n",
    "    \"\"\"\n",
    "    Concatenates two DatasetDict objects, handling missing splits and columns.\n",
    "    If a split exists in one DatasetDict but not the other, it is included as-is.\n",
    "    If columns are missing in one dataset, they are added with None values.\n",
    "\n",
    "    Args:\n",
    "        d1 (DatasetDict): The first DatasetDict to concatenate.\n",
    "        d2 (DatasetDict): The second DatasetDict to concatenate.\n",
    "\n",
    "    Returns:\n",
    "        DatasetDict: A new DatasetDict with concatenated splits.\n",
    "    \"\"\"\n",
    "    # Get all unique splits from both DatasetDicts\n",
    "    all_splits = set(d1.keys()).union(d2.keys())\n",
    "\n",
    "    # Create a new DatasetDict by combining splits\n",
    "    concatenated = DatasetDict()\n",
    "    \n",
    "    for split in all_splits:\n",
    "        if split in d1 and split in d2:\n",
    "            # Both DatasetDicts have this split, so concatenate them\n",
    "            # Get the feature sets from both datasets\n",
    "            features_d1 = set(d1[split].column_names)\n",
    "            features_d2 = set(d2[split].column_names)\n",
    "\n",
    "            # Find missing columns in both datasets\n",
    "            missing_in_d1 = features_d2 - features_d1\n",
    "            missing_in_d2 = features_d1 - features_d2\n",
    "\n",
    "            # Add missing columns with None values\n",
    "            for missing_col in missing_in_d1:\n",
    "                d1[split] = d1[split].add_column(missing_col, [None] * len(d1[split]))\n",
    "            for missing_col in missing_in_d2:\n",
    "                d2[split] = d2[split].add_column(missing_col, [None] * len(d2[split]))\n",
    "\n",
    "            # Now concatenate the datasets with the same features\n",
    "            concatenated[split] = concatenate_datasets([d1[split], d2[split]])\n",
    "\n",
    "        elif split in d1:\n",
    "            # Only the first DatasetDict has this split\n",
    "            concatenated[split] = d1[split]\n",
    "        elif split in d2:\n",
    "            # Only the second DatasetDict has this split\n",
    "            concatenated[split] = d2[split]\n",
    "\n",
    "    return concatenated\n",
    "\n",
    "# ------------------------------------------------------------------------------------------------------------ #\n",
    "# ------------------------------------------------------------------------------------------------------------ #\n",
    "\n",
    "def combine_all_datasets(all_datasets_dict: dict={}):\n",
    "    \"\"\" Combines all dataset from a given dictionary of structure. \"\"\"\n",
    "    \n",
    "    # Create a new DatasetDict by combining splits\n",
    "    combined = DatasetDict()\n",
    "        \n",
    "    for dataset_source, data in all_datasets_dict.items():\n",
    "        \n",
    "        if data[\"dataset_source_column_name\"] is not None:\n",
    "            use_source_from_dataset = True\n",
    "            dataset_source_column = data[\"dataset_source_column_name\"]\n",
    "        else:\n",
    "            use_source_from_dataset = False\n",
    "            dataset_source_column = None\n",
    "        \n",
    "        dataset = extract_and_stack_dataset(dataset=data[\"dataset\"], \n",
    "                                                dataset_source=dataset_source, \n",
    "                                                dataset_source_column=dataset_source_column, \n",
    "                                                use_source_from_dataset=use_source_from_dataset, \n",
    "                                                metadata_columns=data[\"metadata_columns\"]\n",
    "                )\n",
    "        combined = concat_datasetdicts(combined, dataset)\n",
    "        \n",
    "        print(f\"=\" * 25)\n",
    "        \n",
    "    return combined\n",
    "    \n",
    "# ------------------------------------------------------------------------------------------------------------ #\n",
    "# ------------------------------------------------------------------------------------------------------------ #"
   ]
  },
  {
   "cell_type": "code",
   "execution_count": null,
   "metadata": {},
   "outputs": [],
   "source": [
    "all_datasets_dict= {\n",
    "                \"JasperV13/Darija_Dataset\": {\n",
    "                    \"dataset\": jasper_dataset,\n",
    "                    \"metadata_columns\": ['source'],\n",
    "                    \"dataset_source_column_name\": 'source',\n",
    "                },\n",
    "                \"abdeljalilELmajjodi/darija_topic_ds\": {\n",
    "                    \"dataset\": abdeljalil_darija_topic_ds,\n",
    "                    \"metadata_columns\": ['topic'],\n",
    "                    \"dataset_source_column_name\": None,\n",
    "                },\n",
    "                \"abdeljalilELmajjodi/darija_qa_ds\": {\n",
    "                    \"dataset\": abdeljalil_darija_qa_ds,\n",
    "                    \"metadata_columns\": ['question_number', 'correct_answer_num'],\n",
    "                    \"dataset_source_column_name\": None,\n",
    "                },\n",
    "                \"abdeljalilELmajjodi/abdeljalil_darija_classification_ds\": {\n",
    "                    \"dataset\": abdeljalil_darija_classification_ds,\n",
    "                    \"metadata_columns\": ['index_id', 'category'],\n",
    "                    \"dataset_source_column_name\": None,\n",
    "                },\n",
    "                \"bourbouh/moroccan-darija-youtube-subtitles\": {\n",
    "                    \"dataset\": bourbouh_subtitles_dataset,\n",
    "                    \"metadata_columns\": ['video_id', 'title'],\n",
    "                    \"dataset_source_column_name\": None,\n",
    "                },\n",
    "                \"JasperV13/Darija_instruct\": {\n",
    "                    \"dataset\": jasper_darija_instruct_dataset,\n",
    "                    \"metadata_columns\": [],\n",
    "                    \"dataset_source_column_name\": None,\n",
    "                },\n",
    "                \"tachicart/mo_darija_merged\": {\n",
    "                    \"dataset\": mo_darija_merged_dataset,\n",
    "                    \"metadata_columns\": ['ar'],\n",
    "                    \"dataset_source_column_name\": None,\n",
    "                },\n",
    "                \"Lyte/Darija-QA\": {\n",
    "                    \"dataset\": Darija_QA_dataset,\n",
    "                    \"metadata_columns\": [],\n",
    "                    \"dataset_source_column_name\": None,\n",
    "                },\n",
    "                \"MAC Corpus\": {\n",
    "                    \"dataset\": mac_dataset,\n",
    "                    \"metadata_columns\": ['type', 'class'],\n",
    "                    \"dataset_source_column_name\": None,\n",
    "                },\n",
    "                \"sawalni-ai/fw-darija\": {\n",
    "                    \"dataset\": fine_web_sawalni_filtered,\n",
    "                    \"metadata_columns\": ['gherbal_cleaned_text', 'gherbal_predictions', 'gherbal_lang', 'gherbal_score', 'id', 'metadata', 'domain'],\n",
    "                    \"dataset_source_column_name\": None,\n",
    "                },\n",
    "            }"
   ]
  },
  {
   "cell_type": "code",
   "execution_count": 51,
   "metadata": {},
   "outputs": [
    {
     "data": {
      "text/plain": [
       "DatasetDict({\n",
       "    train: Dataset({\n",
       "        features: ['english', 'darija_Arab', 'darija_Latn', 'dataset_source', 'id', 'role', 'darija_tokens', 'subtopic', 'topic', 'annotator_dialect'],\n",
       "        num_rows: 577974\n",
       "    })\n",
       "    test: Dataset({\n",
       "        features: ['english', 'darija_Arab', 'darija_Latn', 'dataset_source', 'id', 'role', 'darija_tokens', 'subtopic', 'topic', 'annotator_dialect'],\n",
       "        num_rows: 850\n",
       "    })\n",
       "})"
      ]
     },
     "execution_count": 51,
     "metadata": {},
     "output_type": "execute_result"
    }
   ],
   "source": [
    "data_translation"
   ]
  },
  {
   "cell_type": "code",
   "execution_count": null,
   "metadata": {},
   "outputs": [],
   "source": [
    "to_add_datasets_dict= {\n",
    "                \"BounharAbdelaziz/Terjman-v2-English-Darija-Dataset\": {\n",
    "                    \"dataset\": data_translation,\n",
    "                    \"metadata_columns\": ['english', 'darija_Latn', 'dataset_source', 'id', 'role', 'darija_tokens', 'subtopic', 'topic', 'annotator_dialect'],\n",
    "                    \"dataset_source_column_name\": 'dataset_source', # or None if you want to use the key as source\n",
    "                },\n",
    "            }"
   ]
  },
  {
   "cell_type": "code",
   "execution_count": 53,
   "metadata": {},
   "outputs": [
    {
     "name": "stdout",
     "output_type": "stream",
     "text": [
      "Processing split: train...\n"
     ]
    },
    {
     "name": "stderr",
     "output_type": "stream",
     "text": [
      "Map: 100%|██████████| 577974/577974 [00:07<00:00, 72761.73 examples/s] \n",
      "Flattening the indices: 100%|██████████| 577974/577974 [00:02<00:00, 258919.21 examples/s] \n"
     ]
    },
    {
     "name": "stdout",
     "output_type": "stream",
     "text": [
      "Processing split: test...\n"
     ]
    },
    {
     "name": "stderr",
     "output_type": "stream",
     "text": [
      "Map: 100%|██████████| 850/850 [00:00<00:00, 79143.08 examples/s]\n",
      "Flattening the indices: 100%|██████████| 850/850 [00:00<00:00, 236746.03 examples/s]"
     ]
    },
    {
     "name": "stdout",
     "output_type": "stream",
     "text": [
      "=========================\n"
     ]
    },
    {
     "name": "stderr",
     "output_type": "stream",
     "text": [
      "\n"
     ]
    }
   ],
   "source": [
    "to_add_dataset = combine_all_datasets(to_add_datasets_dict)"
   ]
  },
  {
   "cell_type": "code",
   "execution_count": 54,
   "metadata": {},
   "outputs": [
    {
     "data": {
      "text/plain": [
       "DatasetDict({\n",
       "    test: Dataset({\n",
       "        features: ['dataset_source', 'text', 'metadata'],\n",
       "        num_rows: 850\n",
       "    })\n",
       "    train: Dataset({\n",
       "        features: ['dataset_source', 'text', 'metadata'],\n",
       "        num_rows: 577974\n",
       "    })\n",
       "})"
      ]
     },
     "execution_count": 54,
     "metadata": {},
     "output_type": "execute_result"
    }
   ],
   "source": [
    "to_add_dataset"
   ]
  },
  {
   "cell_type": "code",
   "execution_count": 64,
   "metadata": {},
   "outputs": [],
   "source": [
    "combined = concat_datasetdicts(to_add_dataset, dataset_in_hub)"
   ]
  },
  {
   "cell_type": "code",
   "execution_count": 66,
   "metadata": {},
   "outputs": [
    {
     "data": {
      "text/plain": [
       "{'ArabicDarija_xP3x',\n",
       " 'Darija-Stories-Dataset',\n",
       " 'DarijaBridge',\n",
       " 'DarijaEnglish-xP3x',\n",
       " 'JasperV13/Darija_instruct',\n",
       " 'Lyte/Darija-QA',\n",
       " 'MAC Corpus',\n",
       " 'MArSum',\n",
       " 'ML101',\n",
       " 'MTCD',\n",
       " 'NQ-Open-AYA',\n",
       " 'SoftAge-AI/sft-conversational_dataset',\n",
       " 'abdeljalilELmajjodi/abdeljalil_darija_classification_ds',\n",
       " 'abdeljalilELmajjodi/darija_qa_ds',\n",
       " 'abdeljalilELmajjodi/darija_topic_ds',\n",
       " 'aboutaleb/moroccantourism',\n",
       " 'atlasia/DODa-audio-dataset-V3',\n",
       " 'atlasia/Moroccan-Darija-Wiki-Audio-Dataset',\n",
       " 'atlasia/Moroccan-Darija-Wiki-Dataset',\n",
       " 'atlasia/Social_Media_Darija_DS/default',\n",
       " 'atlasia/Social_Media_Darija_DS/facebook_comments',\n",
       " 'atlasia/Social_Media_Darija_DS/facebook_uncleand_posts',\n",
       " 'atlasia/darija_english',\n",
       " 'atlasia/darija_english/stories',\n",
       " 'atlasia/facebook_darija_dataset',\n",
       " 'atlasia/moroccan_darija_domain_classifier_dataset',\n",
       " 'auto-math',\n",
       " 'bourbouh/moroccan-darija-youtube-subtitles',\n",
       " 'common-crawl',\n",
       " 'cot',\n",
       " 'darija_speech_to_text',\n",
       " 'darija_youtube_subtitles',\n",
       " 'dataset_dyal_darija',\n",
       " 'flan_v2',\n",
       " 'goud-sum',\n",
       " 'gpt4_alpaca',\n",
       " 'learnmoroccan.com',\n",
       " 'lima',\n",
       " 'loecsen.com',\n",
       " 'medmac01/moroccan_history_qa',\n",
       " 'moroccan_darija_wikipedia_dataset',\n",
       " 'oasst1',\n",
       " 'sawalni-ai/fw-darija',\n",
       " 'sharegpt',\n",
       " 'stanford',\n",
       " 'tachicart/mo_darija_merged',\n",
       " 'translation-rows',\n",
       " 'wikihow',\n",
       " 'wizardlm'}"
      ]
     },
     "execution_count": 66,
     "metadata": {},
     "output_type": "execute_result"
    }
   ],
   "source": [
    "set(combined['train']['dataset_source'])"
   ]
  },
  {
   "cell_type": "code",
   "execution_count": 68,
   "metadata": {},
   "outputs": [
    {
     "data": {
      "text/plain": [
       "DatasetDict({\n",
       "    train: Dataset({\n",
       "        features: ['dataset_source', 'text', 'metadata', 'token_count'],\n",
       "        num_rows: 1183419\n",
       "    })\n",
       "    test: Dataset({\n",
       "        features: ['dataset_source', 'text', 'metadata', 'token_count'],\n",
       "        num_rows: 2706\n",
       "    })\n",
       "})"
      ]
     },
     "execution_count": 68,
     "metadata": {},
     "output_type": "execute_result"
    }
   ],
   "source": [
    "combined"
   ]
  },
  {
   "cell_type": "markdown",
   "metadata": {},
   "source": [
    "## remove duplicates"
   ]
  },
  {
   "cell_type": "code",
   "execution_count": 69,
   "metadata": {},
   "outputs": [],
   "source": [
    "# Function to deduplicate based on a column\n",
    "def deduplicate(dataset, column):\n",
    "    # Get unique values in the specified column\n",
    "    unique_values = set(dataset.unique(column))\n",
    "    \n",
    "    # Filter dataset to keep only unique rows\n",
    "    return dataset.filter(lambda example: example[column] in unique_values and not unique_values.remove(example[column]))"
   ]
  },
  {
   "cell_type": "code",
   "execution_count": 70,
   "metadata": {},
   "outputs": [
    {
     "name": "stderr",
     "output_type": "stream",
     "text": [
      "Flattening the indices: 100%|██████████| 1183419/1183419 [00:23<00:00, 51332.23 examples/s]\n",
      "Filter: 100%|██████████| 1183419/1183419 [00:16<00:00, 73148.68 examples/s]\n",
      "Filter: 100%|██████████| 2706/2706 [00:00<00:00, 225740.61 examples/s]"
     ]
    },
    {
     "name": "stdout",
     "output_type": "stream",
     "text": [
      "Train size after deduplication: 1171515\n",
      "Test size after deduplication: 2683\n"
     ]
    },
    {
     "name": "stderr",
     "output_type": "stream",
     "text": [
      "\n"
     ]
    }
   ],
   "source": [
    "# Apply deduplication to each split\n",
    "combined[\"train\"] = deduplicate(combined[\"train\"], column=\"text\")\n",
    "combined[\"test\"] = deduplicate(combined[\"test\"], column=\"text\")\n",
    "\n",
    "# Print sizes after deduplication\n",
    "print(f\"Train size after deduplication: {len(combined['train'])}\")\n",
    "print(f\"Test size after deduplication: {len(combined['test'])}\")"
   ]
  },
  {
   "cell_type": "code",
   "execution_count": 72,
   "metadata": {},
   "outputs": [
    {
     "data": {
      "text/plain": [
       "DatasetDict({\n",
       "    train: Dataset({\n",
       "        features: ['dataset_source', 'text', 'metadata', 'token_count'],\n",
       "        num_rows: 1171515\n",
       "    })\n",
       "    test: Dataset({\n",
       "        features: ['dataset_source', 'text', 'metadata', 'token_count'],\n",
       "        num_rows: 2683\n",
       "    })\n",
       "})"
      ]
     },
     "execution_count": 72,
     "metadata": {},
     "output_type": "execute_result"
    }
   ],
   "source": [
    "combined"
   ]
  },
  {
   "cell_type": "markdown",
   "metadata": {},
   "source": [
    "## count the number of tokens"
   ]
  },
  {
   "cell_type": "code",
   "execution_count": 73,
   "metadata": {},
   "outputs": [],
   "source": [
    "from transformers import AutoTokenizer\n",
    "import os"
   ]
  },
  {
   "cell_type": "code",
   "execution_count": 75,
   "metadata": {},
   "outputs": [],
   "source": [
    "model_path = \"core42/jais-13b\"\n",
    "tokenizer = AutoTokenizer.from_pretrained(model_path)"
   ]
  },
  {
   "cell_type": "code",
   "execution_count": 76,
   "metadata": {},
   "outputs": [
    {
     "name": "stderr",
     "output_type": "stream",
     "text": [
      "Map: 100%|██████████| 1171515/1171515 [08:38<00:00, 2259.82 examples/s] \n",
      "Map: 100%|██████████| 2683/2683 [00:00<00:00, 22381.66 examples/s]\n"
     ]
    }
   ],
   "source": [
    "# Function to count tokens in each text entry\n",
    "def count_tokens(batch):\n",
    "    # Tokenize the text and count the number of tokens for each entry\n",
    "    batch[\"token_count\"] = [len(tokenizer.encode(text, truncation=True)) for text in batch[\"text\"]]\n",
    "    return batch\n",
    "\n",
    "# Apply the token counting function to both splits\n",
    "combined[\"train\"] = combined[\"train\"].map(count_tokens, batched=True, batch_size=os.cpu_count())\n",
    "combined[\"test\"] = combined[\"test\"].map(count_tokens, batched=True, batch_size=os.cpu_count())"
   ]
  },
  {
   "cell_type": "code",
   "execution_count": 43,
   "metadata": {},
   "outputs": [
    {
     "name": "stdout",
     "output_type": "stream",
     "text": [
      "{'text': 'الحلقة رقم 63# من البودكاست.\\n\\nفهاد الحلقة من البودكاست هضرت مع الدكتور اسماعيل سعدون لي متخصص فبطاريات الليثيوم. الدكتور سعدون عندو تجربة واعرة بزاف و خبرة واسعة فهاد المجال. عاود لنا فهاد البودكاست على كيفاش حتى قرا فالجامعة فالمغرب مع الصعوبات اللوجيتسكية و المادية لي كان كيعاني منها. قدر أنه يكون من بين أوائل الدفعة ديالهم و مشا كمل الدكوراه ديالو ففرنسا. من تما رجع للمغرب و قدر يأسس مختبر Laboratory of Materials and Environmental Chemistry فجامعة القاضي عياض. خدم مع عدد ديال الباحثين و قدر يجيب بزاف ديال التمويلات الخارجية باش يدعم المختبر ديالو. ليوما الدكتور سعدون من أكثر الناس خبرة فمجال بطاريات الليثيوم فالعالم. كيعطي محاضرات فأوروبا و آسيا. ألف أكثر من 150 ورقة بحثية و أكثر من 3600 اقتباس و حصل على جائزة من جامعة طوكيو مؤخرا. فهاد الحلقة هضرنا على المسار ديالو و كيفاش حتى حقق هادشي كامل. إضافة لهادشي هضرنا على البحث العلمي فالمغرب و المشاكل لي كاينة و الحلول ديالها. الدكتور سعدون عندو خبرة طويلة فالبحث العلمي فالمغرب، و هو ليوما مدير المحتبر لي ساهم فالتأسيس ديالو.\\n\\nIsmael Saadoune, PhD - Director or Research, Université Cady Ayyad\\n\\nYoutube: https://youtu.be/0Suz2Yepkzs\\nPodcast links (Spotify, Apple Podcasts, Google podcasts) :\\nhttps://linktr.ee/tajriba', 'dataset_source': 'atlasia/Social_Media_Darija_DS/default', 'metadata': \"{'lang': 'ary_Arab', 'source': 'facebook', '__index_level_0__': '0'}\", 'token_count': 335}\n",
      "{'text': 'كاين في اللاخر ديال هاد القاعة. انجيب ليك شويا دابا. و إلا حتاجيتي شي حاجا اخرى، قولها ليا.', 'dataset_source': 'tachicart/mo_darija_merged', 'metadata': \"{'ar': 'إنها في أخر القاعة . سوف آتي لك ببعض منها الآن . إذا أردت أي شيئاً آخر فقط أعلمني .'}\", 'token_count': 30}\n",
      "Total tokens in train split: 155501098\n",
      "Total tokens in test split: 19187\n"
     ]
    }
   ],
   "source": [
    "# Print some examples to verify token counts\n",
    "print(combined[\"train\"][0])  # First example from train split with token count\n",
    "print(combined[\"test\"][0])   # First example from test split with token count\n",
    "\n",
    "# Optional: Aggregate token counts for each split\n",
    "total_train_tokens = sum(combined[\"train\"][\"token_count\"])\n",
    "total_test_tokens = sum(combined[\"test\"][\"token_count\"])\n",
    "\n",
    "print(f\"Total tokens in train split: {total_train_tokens}\")\n",
    "print(f\"Total tokens in test split: {total_test_tokens}\")"
   ]
  },
  {
   "cell_type": "code",
   "execution_count": 77,
   "metadata": {},
   "outputs": [],
   "source": [
    "df_train = combined['train'].to_pandas()\n",
    "df_test = combined['test'].to_pandas()"
   ]
  },
  {
   "cell_type": "code",
   "execution_count": null,
   "metadata": {},
   "outputs": [
    {
     "data": {
      "text/plain": [
       "1171515"
      ]
     },
     "execution_count": 85,
     "metadata": {},
     "output_type": "execute_result"
    }
   ],
   "source": [
    "df_train['dataset_source'].value_counts()"
   ]
  },
  {
   "cell_type": "code",
   "execution_count": null,
   "metadata": {},
   "outputs": [
    {
     "data": {
      "text/plain": [
       "dataset_source\n",
       "tachicart/mo_darija_merged    1799\n",
       "                               830\n",
       "MAC Corpus                      54\n",
       "Name: count, dtype: int64"
      ]
     },
     "execution_count": 79,
     "metadata": {},
     "output_type": "execute_result"
    }
   ],
   "source": [
    "df_test['dataset_source'].value_counts()"
   ]
  },
  {
   "cell_type": "code",
   "execution_count": 82,
   "metadata": {},
   "outputs": [
    {
     "data": {
      "text/plain": [
       "0"
      ]
     },
     "execution_count": 82,
     "metadata": {},
     "output_type": "execute_result"
    }
   ],
   "source": [
    "df_test['dataset_source'].isna().sum()"
   ]
  },
  {
   "cell_type": "code",
   "execution_count": 83,
   "metadata": {},
   "outputs": [],
   "source": [
    "df_test['dataset_source'] = df_test['dataset_source'].apply(lambda x: 'atlasia/TerjamaBench' if x == '' else x)"
   ]
  },
  {
   "cell_type": "code",
   "execution_count": 84,
   "metadata": {},
   "outputs": [
    {
     "data": {
      "text/plain": [
       "dataset_source\n",
       "tachicart/mo_darija_merged    1799\n",
       "atlasia/TerjamaBench           830\n",
       "MAC Corpus                      54\n",
       "Name: count, dtype: int64"
      ]
     },
     "execution_count": 84,
     "metadata": {},
     "output_type": "execute_result"
    }
   ],
   "source": [
    "df_test['dataset_source'].value_counts()"
   ]
  },
  {
   "cell_type": "markdown",
   "metadata": {},
   "source": [
    "# Push the dataset to the Hugging Face Hub"
   ]
  },
  {
   "cell_type": "code",
   "execution_count": 80,
   "metadata": {},
   "outputs": [
    {
     "name": "stderr",
     "output_type": "stream",
     "text": [
      "Creating parquet from Arrow format: 100%|██████████| 235/235 [00:00<00:00, 465.39ba/s] \n",
      "Creating parquet from Arrow format: 100%|██████████| 235/235 [00:00<00:00, 264.43ba/s]\n",
      "Creating parquet from Arrow format: 100%|██████████| 235/235 [00:00<00:00, 410.24ba/s]\n",
      "Creating parquet from Arrow format: 100%|██████████| 235/235 [00:02<00:00, 101.92ba/s] \n",
      "Creating parquet from Arrow format: 100%|██████████| 235/235 [00:01<00:00, 144.04ba/s]\n",
      "Uploading the dataset shards: 100%|██████████| 5/5 [00:38<00:00,  7.70s/it]\n",
      "Creating parquet from Arrow format: 100%|██████████| 3/3 [00:00<00:00, 1564.46ba/s]\n",
      "Uploading the dataset shards: 100%|██████████| 1/1 [00:00<00:00,  1.52it/s]\n"
     ]
    },
    {
     "data": {
      "text/plain": [
       "CommitInfo(commit_url='https://huggingface.co/datasets/atlasia/AL-Atlas-Moroccan-Darija-Pretraining-Dataset/commit/a29f4afcebc5eddb3b4da7f3ca8d8de196ba971e', commit_message=\"Added Abdeljalil's social media and wikipedia datasets + Removed duplicates + Added token counts.\", commit_description='', oid='a29f4afcebc5eddb3b4da7f3ca8d8de196ba971e', pr_url=None, repo_url=RepoUrl('https://huggingface.co/datasets/atlasia/AL-Atlas-Moroccan-Darija-Pretraining-Dataset', endpoint='https://huggingface.co', repo_type='dataset', repo_id='atlasia/AL-Atlas-Moroccan-Darija-Pretraining-Dataset'), pr_revision=None, pr_num=None)"
      ]
     },
     "execution_count": 80,
     "metadata": {},
     "output_type": "execute_result"
    }
   ],
   "source": [
    "combined.push_to_hub(DATASET_HUB, commit_message=\"Added Abdeljalil's social media and wikipedia datasets + Removed duplicates + Added token counts.\")"
   ]
  },
  {
   "cell_type": "markdown",
   "metadata": {},
   "source": [
    "# MinHash Deduplication"
   ]
  },
  {
   "cell_type": "code",
   "execution_count": 16,
   "metadata": {},
   "outputs": [],
   "source": [
    "from datasets import DatasetDict\n",
    "from datasketch import MinHash, MinHashLSH\n",
    "from sklearn.feature_extraction.text import CountVectorizer"
   ]
  },
  {
   "cell_type": "code",
   "execution_count": 85,
   "metadata": {},
   "outputs": [],
   "source": [
    "def run_minhash_deduplication(dataset_dict, text_column, n=3, num_perm=128, threshold=0.8, LOG_FREQUENCY=1000):\n",
    "\n",
    "    def generate_ngrams(text, n):\n",
    "        \"\"\"Generate n-grams from text.\"\"\"\n",
    "        vectorizer = CountVectorizer(ngram_range=(n, n), analyzer='word', token_pattern=r'\\b\\w+\\b')\n",
    "        try:\n",
    "            vectorizer.fit([text])\n",
    "            return vectorizer.get_feature_names_out()\n",
    "        except ValueError:\n",
    "            return []\n",
    "\n",
    "    def get_minhash(ngrams, num_perm):\n",
    "        \"\"\"Create a MinHash signature from n-grams.\"\"\"\n",
    "        m = MinHash(num_perm=num_perm)\n",
    "        for ngram in ngrams:\n",
    "            m.update(ngram.encode('utf8'))\n",
    "        return m\n",
    "\n",
    "    # Initialize LSH\n",
    "    lsh = MinHashLSH(threshold=threshold, num_perm=num_perm)\n",
    "\n",
    "    def process_example(example, idx, split_name):\n",
    "        \"\"\"Process a single example to check for duplicates.\"\"\"\n",
    "        global_id = f\"{split_name}_{idx}\"\n",
    "        text = example.get(text_column, None)\n",
    "\n",
    "        # # Log example details for debugging\n",
    "        # if idx % LOG_FREQUENCY == 0:  # Log every 1000 examples\n",
    "        #     print(f\"Processing {global_id}: {text[:50] if text else 'EMPTY'}\")\n",
    "\n",
    "        if text is None or not text.strip():\n",
    "            return {\"_keep\": False, **example}\n",
    "\n",
    "        ngrams = generate_ngrams(text, n)\n",
    "        if len(ngrams) == 0:  # Explicitly check if ngrams array is empty\n",
    "            return {\"_keep\": False, **example}\n",
    "\n",
    "        m = get_minhash(ngrams, num_perm)\n",
    "\n",
    "        # Check for duplicates\n",
    "        if lsh.query(m):\n",
    "            return {\"_keep\": False, **example}\n",
    "        else:\n",
    "            lsh.insert(global_id, m)\n",
    "            return {\"_keep\": True, **example}\n",
    "\n",
    "\n",
    "    # Deduplicate each split\n",
    "    deduplicated_splits = {}\n",
    "    for split_name, split_data in dataset_dict.items():\n",
    "        print(f\"Processing split: {split_name} (Size: {len(split_data)})\")\n",
    "        deduplicated_split = split_data.map(\n",
    "            lambda example, idx: process_example(example, idx, split_name),\n",
    "            with_indices=True,\n",
    "            remove_columns=[]  # Keeps the original schema\n",
    "        ).filter(lambda x: x[\"_keep\"])\n",
    "\n",
    "        deduplicated_split = deduplicated_split.remove_columns([\"_keep\"])\n",
    "        deduplicated_splits[split_name] = deduplicated_split\n",
    "\n",
    "    print(\"[INFO] Deduplication complete.\")\n",
    "    return DatasetDict(deduplicated_splits)\n"
   ]
  },
  {
   "cell_type": "code",
   "execution_count": 87,
   "metadata": {},
   "outputs": [],
   "source": [
    "LSH_THRESHOLD = 0.75\n",
    "NUM_PERM = 128\n",
    "N_GRAM = 3\n",
    "text_column ='text'\n",
    "LOG_FREQUENCY = 1000"
   ]
  },
  {
   "cell_type": "code",
   "execution_count": null,
   "metadata": {},
   "outputs": [],
   "source": [
    "# execute minhash dedpulication\n",
    "deduplicated_dataset = run_minhash_deduplication(dataset_dict=dataset_in_hub, \n",
    "                                                text_column=text_column, \n",
    "                                                 n=N_GRAM, \n",
    "                                                 num_perm=NUM_PERM, \n",
    "                                                 threshold=LSH_THRESHOLD,\n",
    "                                                 LOG_FREQUENCY=LOG_FREQUENCY)"
   ]
  }
 ],
 "metadata": {
  "kernelspec": {
   "display_name": "Python 3",
   "language": "python",
   "name": "python3"
  },
  "language_info": {
   "codemirror_mode": {
    "name": "ipython",
    "version": 3
   },
   "file_extension": ".py",
   "mimetype": "text/x-python",
   "name": "python",
   "nbconvert_exporter": "python",
   "pygments_lexer": "ipython3",
   "version": "3.12.3"
  }
 },
 "nbformat": 4,
 "nbformat_minor": 2
}
